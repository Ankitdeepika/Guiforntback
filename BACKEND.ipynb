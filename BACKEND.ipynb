{
 "cells": [
  {
   "cell_type": "code",
   "execution_count": 2,
   "id": "0e3b1337-ab72-44cc-8b59-d6b22b9e627b",
   "metadata": {},
   "outputs": [
    {
     "name": "stdout",
     "output_type": "stream",
     "text": [
      "[(5, 'VILLAGE', 'SUMITH', 1978, 87945), (2, 'MOUNTAIN', 'DEEPAK', 8796, 78458), (1, 'THE OCEAN', 'ANKIT', 8976, 10)]\n"
     ]
    }
   ],
   "source": [
    "import sqlite3\n",
    "\n",
    "def connect():\n",
    "    conn = sqlite3.connect(\"books.db\")\n",
    "    cur = conn.cursor()\n",
    "    cur.execute(\"CREATE TABLE IF NOT EXISTS book (id integer, title text, author text, year integer, isbn integer)\")\n",
    "    conn.commit()\n",
    "    conn.close()\n",
    "    \n",
    "def insert1(id,title,author,year,isbn):\n",
    "    conn = sqlite3.connect(\"books.db\")\n",
    "    cur = conn.cursor()\n",
    "    cur.execute('INSERT INTO book VALUES (?,?,?,?,?)',(id,title,author,year,isbn))\n",
    "    conn.commit()\n",
    "    conn.close()\n",
    "    \n",
    "def view():\n",
    "    conn = sqlite3.connect(\"books.db\")\n",
    "    cur = conn.cursor()\n",
    "    cur.execute(\"SELECT * FROM book\")\n",
    "    rows = cur.fetchall()\n",
    "    conn.close()\n",
    "    return rows\n",
    "\n",
    "def search(ID=\"\",title=\"\",author=\"\",year=\"\",isbn=\"\"):\n",
    "    conn = sqlite3.connect(\"books.db\")\n",
    "    cur = conn.cursor()\n",
    "    cur.execute(\"SELECT * FROM book WHERE ID=? OR title=? OR author=? OR year=? OR isbn=?\",(ID,title,author,year,isbn))\n",
    "    rows = cur.fetchall()\n",
    "    conn.close()\n",
    "    return rows\n",
    "\n",
    "def delete1(id):\n",
    "    conn = sqlite3.connect(\"books.db\")\n",
    "    cur = conn.cursor()\n",
    "    cur.execute(\"DELETE FROM book WHERE id=?\",(id,))\n",
    "    conn.commit()\n",
    "    conn.close()\n",
    "    \n",
    "def update(id,title,author,year,isbn):\n",
    "    conn = sqlite3.connect(\"books.db\")\n",
    "    cur = conn.cursor()\n",
    "    cur.execute(\"UPDATE book SET title=?,author=?,year=?,isbn=? WHERE id=?\",(title,author,year,isbn,id))\n",
    "    conn.commit()\n",
    "    conn.close()\n",
    "\n",
    "connect()\n",
    "# delete(8976)\n",
    "# insert1(1,'THE OCEAN','ANKIT',8976,795654)\n",
    "# update(2,'THE SEA', 'ROSHAN', 2465, 795654)\n",
    "print(view())\n",
    "# print(search(author=\"ANKIT\"))"
   ]
  },
  {
   "cell_type": "code",
   "execution_count": null,
   "id": "b8a7d731-2593-4f66-8149-04b44066f16b",
   "metadata": {},
   "outputs": [],
   "source": []
  }
 ],
 "metadata": {
  "kernelspec": {
   "display_name": "Python 3 (ipykernel)",
   "language": "python",
   "name": "python3"
  },
  "language_info": {
   "codemirror_mode": {
    "name": "ipython",
    "version": 3
   },
   "file_extension": ".py",
   "mimetype": "text/x-python",
   "name": "python",
   "nbconvert_exporter": "python",
   "pygments_lexer": "ipython3",
   "version": "3.9.6"
  }
 },
 "nbformat": 4,
 "nbformat_minor": 5
}
