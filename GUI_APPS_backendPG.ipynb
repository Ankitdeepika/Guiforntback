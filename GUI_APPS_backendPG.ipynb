{
 "cells": [
  {
   "cell_type": "code",
   "execution_count": 37,
   "id": "3d301963-69b6-413f-9cba-0a91f50b407e",
   "metadata": {},
   "outputs": [
    {
     "ename": "TypeError",
     "evalue": "not all arguments converted during string formatting",
     "output_type": "error",
     "traceback": [
      "\u001b[1;31m---------------------------------------------------------------------------\u001b[0m",
      "\u001b[1;31mTypeError\u001b[0m                                 Traceback (most recent call last)",
      "\u001b[1;32m~\\AppData\\Local\\Temp/ipykernel_12836/4227965764.py\u001b[0m in \u001b[0;36m<module>\u001b[1;34m\u001b[0m\n\u001b[0;32m     24\u001b[0m \u001b[1;33m\u001b[0m\u001b[0m\n\u001b[0;32m     25\u001b[0m \u001b[0mconnect\u001b[0m\u001b[1;33m(\u001b[0m\u001b[1;33m)\u001b[0m\u001b[1;33m\u001b[0m\u001b[1;33m\u001b[0m\u001b[0m\n\u001b[1;32m---> 26\u001b[1;33m \u001b[0minsert\u001b[0m\u001b[1;33m(\u001b[0m\u001b[1;34m\"maker\"\u001b[0m\u001b[1;33m,\u001b[0m\u001b[1;34m\"john\"\u001b[0m\u001b[1;33m,\u001b[0m\u001b[1;36m1982\u001b[0m\u001b[1;33m,\u001b[0m\u001b[1;36m56987466\u001b[0m\u001b[1;33m,\u001b[0m\u001b[1;36m52\u001b[0m\u001b[1;33m)\u001b[0m\u001b[1;33m\u001b[0m\u001b[1;33m\u001b[0m\u001b[0m\n\u001b[0m\u001b[0;32m     27\u001b[0m \u001b[0mprint\u001b[0m\u001b[1;33m(\u001b[0m\u001b[0mview\u001b[0m\u001b[1;33m(\u001b[0m\u001b[1;33m)\u001b[0m\u001b[1;33m)\u001b[0m\u001b[1;33m\u001b[0m\u001b[1;33m\u001b[0m\u001b[0m\n",
      "\u001b[1;32m~\\AppData\\Local\\Temp/ipykernel_12836/4227965764.py\u001b[0m in \u001b[0;36minsert\u001b[1;34m(id, title, author, year, isbn)\u001b[0m\n\u001b[0;32m     11\u001b[0m     \u001b[0mconn\u001b[0m \u001b[1;33m=\u001b[0m \u001b[0mpsycopg2\u001b[0m\u001b[1;33m.\u001b[0m\u001b[0mconnect\u001b[0m\u001b[1;33m(\u001b[0m\u001b[1;34m\"dbname='GUI' user='postgres' password='ankit' host='localhost' port='5432'\"\u001b[0m\u001b[1;33m)\u001b[0m\u001b[1;33m\u001b[0m\u001b[1;33m\u001b[0m\u001b[0m\n\u001b[0;32m     12\u001b[0m     \u001b[0mcur\u001b[0m \u001b[1;33m=\u001b[0m \u001b[0mconn\u001b[0m\u001b[1;33m.\u001b[0m\u001b[0mcursor\u001b[0m\u001b[1;33m(\u001b[0m\u001b[1;33m)\u001b[0m\u001b[1;33m\u001b[0m\u001b[1;33m\u001b[0m\u001b[0m\n\u001b[1;32m---> 13\u001b[1;33m     \u001b[0mcur\u001b[0m\u001b[1;33m.\u001b[0m\u001b[0mexecute\u001b[0m\u001b[1;33m(\u001b[0m\u001b[1;34m\"INSERT INTO book VALUES (nextval('SQ'),%s,%s,%s,%s)\"\u001b[0m\u001b[1;33m,\u001b[0m\u001b[1;33m(\u001b[0m\u001b[0mid\u001b[0m\u001b[1;33m,\u001b[0m\u001b[0mtitle\u001b[0m\u001b[1;33m,\u001b[0m\u001b[0mauthor\u001b[0m\u001b[1;33m,\u001b[0m\u001b[0myear\u001b[0m\u001b[1;33m,\u001b[0m\u001b[0misbn\u001b[0m\u001b[1;33m)\u001b[0m\u001b[1;33m)\u001b[0m\u001b[1;33m\u001b[0m\u001b[1;33m\u001b[0m\u001b[0m\n\u001b[0m\u001b[0;32m     14\u001b[0m     \u001b[0mconn\u001b[0m\u001b[1;33m.\u001b[0m\u001b[0mcommit\u001b[0m\u001b[1;33m(\u001b[0m\u001b[1;33m)\u001b[0m\u001b[1;33m\u001b[0m\u001b[1;33m\u001b[0m\u001b[0m\n\u001b[0;32m     15\u001b[0m     \u001b[0mconn\u001b[0m\u001b[1;33m.\u001b[0m\u001b[0mclose\u001b[0m\u001b[1;33m(\u001b[0m\u001b[1;33m)\u001b[0m\u001b[1;33m\u001b[0m\u001b[1;33m\u001b[0m\u001b[0m\n",
      "\u001b[1;31mTypeError\u001b[0m: not all arguments converted during string formatting"
     ]
    }
   ],
   "source": [
    "import psycopg2\n",
    "\n",
    "def connect():\n",
    "    conn = psycopg2.connect(\"dbname='GUI' user='postgres' password='ankit' host='localhost' port='5432'\")\n",
    "    cur = conn.cursor()\n",
    "    cur.execute(\"CREATE SEQUENCE IF NOT EXISTS SQ; CREATE TABLE IF NOT EXISTS book (id SERIAL PRIMARY KEY,title TEXT,author TEXT,year INTEGER,isbn INTEGER)\")\n",
    "    conn.commit()\n",
    "    conn.close()\n",
    "    \n",
    "def insert(id,title,author,year,isbn):\n",
    "    conn = psycopg2.connect(\"dbname='GUI' user='postgres' password='ankit' host='localhost' port='5432'\")\n",
    "    cur = conn.cursor()\n",
    "    cur.execute(\"INSERT INTO book VALUES (nextval('SQ'),%s,%s,%s,%s)\",(id,title,author,year,isbn))\n",
    "    conn.commit()\n",
    "    conn.close()\n",
    "    \n",
    "def view():\n",
    "    conn = psycopg2.connect(\"dbname='GUI' user='postgres' password='ankit' host='localhost' port='5432'\")\n",
    "    cur = conn.cursor()\n",
    "    cur.execute(\"SELECT * FROM book\")\n",
    "    rows = cur.fetchall()\n",
    "    conn.close()\n",
    "    return rows\n",
    "\n",
    "connect()\n",
    "insert(\"maker\",\"john\",1982,56987466,52)\n",
    "print(view())"
   ]
  },
  {
   "cell_type": "code",
   "execution_count": null,
   "id": "e10d3ebe-ccfb-430b-9a94-ca4d14a9bec9",
   "metadata": {},
   "outputs": [],
   "source": []
  }
 ],
 "metadata": {
  "kernelspec": {
   "display_name": "Python 3 (ipykernel)",
   "language": "python",
   "name": "python3"
  },
  "language_info": {
   "codemirror_mode": {
    "name": "ipython",
    "version": 3
   },
   "file_extension": ".py",
   "mimetype": "text/x-python",
   "name": "python",
   "nbconvert_exporter": "python",
   "pygments_lexer": "ipython3",
   "version": "3.9.6"
  }
 },
 "nbformat": 4,
 "nbformat_minor": 5
}
